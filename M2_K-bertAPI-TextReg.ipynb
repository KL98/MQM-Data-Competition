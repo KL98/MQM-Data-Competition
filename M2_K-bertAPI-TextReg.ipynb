{
 "cells": [
  {
   "cell_type": "markdown",
   "metadata": {},
   "source": [
    "# Model2\n",
    "## Ktrain Text Regression with BERT/DistilBERT (API) Embeddings\n",
    "\n",
    "### TOC\n",
    "\n",
    "* [News Contents](#nc)\n",
    "* [News Contents & Financial Metrics](#ncfm)"
   ]
  },
  {
   "cell_type": "markdown",
   "metadata": {},
   "source": [
    "## News Contents <a class=\"anchor\" id=\"nc\"></a>"
   ]
  },
  {
   "cell_type": "code",
   "execution_count": 2,
   "metadata": {},
   "outputs": [],
   "source": [
    "import pandas as pd\n",
    "\n",
    "df_1 = pd.read_csv(\"data_v4.csv\")\n",
    "df_1.head()\n",
    "\n",
    "df_test = df_1[['News Headlines','PercentChg']]\n",
    "df_test\n",
    "\n",
    "#df_test['News Headlines'] = df_test['News Headlines'].astype('|S')\n",
    "#df_test.dtypes\n",
    "\n",
    "x_prep = df_test.iloc[:, :-1].values\n",
    "y_prep = df_test.iloc[:, -1].values\n",
    "\n",
    "from sklearn.model_selection import train_test_split\n",
    "x_train, x_test, y_train, y_test = train_test_split(x_prep, y_prep, \n",
    "                                                    test_size = 0.2, random_state = 123)\n",
    "\n",
    "x_train = x_train.tolist()\n",
    "x_test = x_test.tolist()\n",
    "y_train = y_train.tolist()\n",
    "y_test = y_test.tolist()\n",
    "\n",
    "for i in range(0, len(x_train)): \n",
    "    x_train[i] = str(x_train[i]) \n",
    "for i in range(0, len(x_test)): \n",
    "    x_test[i] = str(x_test[i]) "
   ]
  },
  {
   "cell_type": "code",
   "execution_count": null,
   "metadata": {},
   "outputs": [],
   "source": [
    "import ktrain\n",
    "from ktrain import text\n",
    "MODEL_NAME = 'sentence-transformers/distilbert-base-nli-stsb-mean-tokens'\n",
    "t = text.Transformer(MODEL_NAME, maxlen=150)\n",
    "trn = t.preprocess_train(x_train, y_train)\n",
    "val = t.preprocess_test(x_test, y_test)\n",
    "\n",
    "model = t.get_regression_model( metrics=['mse','mae'])"
   ]
  },
  {
   "cell_type": "code",
   "execution_count": null,
   "metadata": {},
   "outputs": [],
   "source": [
    "MODEL_NAME = 'distilbert-base-uncased'\n",
    "t = text.Transformer(MODEL_NAME, maxlen=300)\n",
    "trn = t.preprocess_train(x_train, y_train)\n",
    "val = t.preprocess_test(x_test, y_test)\n",
    "\n",
    "model = t.get_regression_model(metrics=['mse','mae'])"
   ]
  },
  {
   "cell_type": "code",
   "execution_count": 15,
   "metadata": {},
   "outputs": [],
   "source": [
    "learner = ktrain.get_learner(model, train_data=trn, val_data=val, batch_size=14)"
   ]
  },
  {
   "cell_type": "code",
   "execution_count": 16,
   "metadata": {},
   "outputs": [
    {
     "name": "stdout",
     "output_type": "stream",
     "text": [
      "\n",
      "\n",
      "begin training using onecycle policy with max lr of 0.0001...\n",
      "Epoch 1/5\n",
      "4/4 [==============================] - 22s 6s/step - loss: 0.0020 - mse: 0.0020 - mae: 0.0340 - val_loss: 5.9696e-04 - val_mse: 5.9696e-04 - val_mae: 0.0170\n",
      "Epoch 2/5\n",
      "4/4 [==============================] - 23s 6s/step - loss: 0.0013 - mse: 0.0013 - mae: 0.0279 - val_loss: 4.8330e-04 - val_mse: 4.8330e-04 - val_mae: 0.0180\n",
      "Epoch 3/5\n",
      "4/4 [==============================] - 23s 6s/step - loss: 0.0014 - mse: 0.0014 - mae: 0.0304 - val_loss: 3.3507e-04 - val_mse: 3.3507e-04 - val_mae: 0.0136\n",
      "Epoch 4/5\n",
      "4/4 [==============================] - 22s 5s/step - loss: 9.5837e-04 - mse: 9.5837e-04 - mae: 0.0253 - val_loss: 9.0435e-04 - val_mse: 9.0435e-04 - val_mae: 0.0261\n",
      "Epoch 5/5\n",
      "4/4 [==============================] - 21s 5s/step - loss: 0.0013 - mse: 0.0013 - mae: 0.0294 - val_loss: 2.4312e-04 - val_mse: 2.4312e-04 - val_mae: 0.0101\n"
     ]
    },
    {
     "data": {
      "text/plain": [
       "<tensorflow.python.keras.callbacks.History at 0x7fb08c020580>"
      ]
     },
     "execution_count": 16,
     "metadata": {},
     "output_type": "execute_result"
    }
   ],
   "source": [
    "learner.fit_onecycle(1e-4, 5)"
   ]
  },
  {
   "cell_type": "markdown",
   "metadata": {},
   "source": [
    "### News Contents & Financial Metrics <a class=\"anchor\" id=\"ncfm\"></a>"
   ]
  },
  {
   "cell_type": "code",
   "execution_count": 9,
   "metadata": {},
   "outputs": [],
   "source": [
    "df_2 = pd.read_csv(\"df_model_2.csv\")\n",
    "df_2.head()\n",
    "\n",
    "df_test_2 = df_2[['News content','currentRatio', 'quickRatio', 'debtEquityRatio', 'interestCoverage',\n",
    "                   'returnOnEquity', 'priceEarningsRatio', 'receivablesTurnover', \n",
    "                   'payablesTurnover', 'eps', 'PercentChg.y']]\n",
    "\n",
    "#df_test_2['News content'] = df_test_2['News content'].astype('|S')\n",
    "\n",
    "x_prep_2 = df_test_2.iloc[:, :-1].values\n",
    "y_prep_2 = df_test_2.iloc[:, -1].values\n",
    "\n",
    "from sklearn.model_selection import train_test_split\n",
    "x_train_2, x_test_2, y_train_2, y_test_2 = train_test_split(x_prep_2, y_prep_2, \n",
    "                                                            test_size = 0.2, random_state = 123)\n",
    "\n",
    "x_train_2 = x_train_2.tolist()\n",
    "x_test_2 = x_test_2.tolist()\n",
    "y_train_2 = y_train_2.tolist()\n",
    "y_test_2 = y_test_2.tolist()\n",
    "\n",
    "for i in range(0, len(x_train_2)): \n",
    "    x_train_2[i] = str(x_train_2[i]) \n",
    "    \n",
    "for i in range(0, len(x_test_2)): \n",
    "    x_test_2[i] = str(x_test_2[i]) "
   ]
  },
  {
   "cell_type": "code",
   "execution_count": null,
   "metadata": {},
   "outputs": [],
   "source": [
    "MODEL_NAME = 'sentence-transformers/distilbert-base-nli-stsb-mean-tokens'\n",
    "t = text.Transformer(MODEL_NAME, maxlen=300)\n",
    "trn2 = t.preprocess_train(x_train_2, y_train_2)\n",
    "val2 = t.preprocess_test(x_test_2, y_test_2)\n",
    "\n",
    "model2 = t.get_regression_model(metrics=['mse','mae'])"
   ]
  },
  {
   "cell_type": "code",
   "execution_count": null,
   "metadata": {},
   "outputs": [],
   "source": [
    "MODEL_NAME = 'distilbert-base-uncased'\n",
    "t = text.Transformer(MODEL_NAME, maxlen=300)\n",
    "trn_2 = t.preprocess_train(x_train_2, y_train_2)\n",
    "val_2 = t.preprocess_test(x_test_2, y_test_2)\n",
    "\n",
    "model2 = t.get_regression_model(metrics=['mse','mae'])"
   ]
  },
  {
   "cell_type": "code",
   "execution_count": 18,
   "metadata": {},
   "outputs": [],
   "source": [
    "learner2 = ktrain.get_learner(model2, train_data=trn2, val_data=val2, batch_size=14)"
   ]
  },
  {
   "cell_type": "code",
   "execution_count": 19,
   "metadata": {},
   "outputs": [
    {
     "name": "stdout",
     "output_type": "stream",
     "text": [
      "\n",
      "\n",
      "begin training using onecycle policy with max lr of 0.0001...\n",
      "Epoch 1/5\n",
      "4/4 [==============================] - 30s 7s/step - loss: 0.0056 - mse: 0.0056 - mae: 0.0655 - val_loss: 0.0018 - val_mse: 0.0018 - val_mae: 0.0388\n",
      "Epoch 2/5\n",
      "4/4 [==============================] - 27s 7s/step - loss: 0.0028 - mse: 0.0028 - mae: 0.0452 - val_loss: 0.0031 - val_mse: 0.0031 - val_mae: 0.0529\n",
      "Epoch 3/5\n",
      "4/4 [==============================] - 27s 7s/step - loss: 0.0029 - mse: 0.0029 - mae: 0.0445 - val_loss: 0.0015 - val_mse: 0.0015 - val_mae: 0.0361\n",
      "Epoch 4/5\n",
      "4/4 [==============================] - 28s 7s/step - loss: 0.0017 - mse: 0.0017 - mae: 0.0335 - val_loss: 4.1374e-04 - val_mse: 4.1374e-04 - val_mae: 0.0150\n",
      "Epoch 5/5\n",
      "4/4 [==============================] - 27s 7s/step - loss: 0.0017 - mse: 0.0017 - mae: 0.0346 - val_loss: 9.6911e-04 - val_mse: 9.6911e-04 - val_mae: 0.0274\n"
     ]
    },
    {
     "data": {
      "text/plain": [
       "<tensorflow.python.keras.callbacks.History at 0x7fb00b4d7f10>"
      ]
     },
     "execution_count": 19,
     "metadata": {},
     "output_type": "execute_result"
    }
   ],
   "source": [
    "learner2.fit_onecycle(1e-4, 5)"
   ]
  }
 ],
 "metadata": {
  "kernelspec": {
   "display_name": "Python 3",
   "language": "python",
   "name": "python3"
  },
  "language_info": {
   "codemirror_mode": {
    "name": "ipython",
    "version": 3
   },
   "file_extension": ".py",
   "mimetype": "text/x-python",
   "name": "python",
   "nbconvert_exporter": "python",
   "pygments_lexer": "ipython3",
   "version": "3.8.5"
  }
 },
 "nbformat": 4,
 "nbformat_minor": 4
}
