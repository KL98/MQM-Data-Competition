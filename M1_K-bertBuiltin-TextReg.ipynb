{
 "cells": [
  {
   "cell_type": "markdown",
   "metadata": {},
   "source": [
    "# Model1\n",
    "## Ktrain Text Regression with BERT (Built-in) Embeddings\n",
    "\n",
    "### TOC\n",
    "\n",
    "* [News Contents](#nc)\n",
    "* [News Contents & Financial Metrics](#ncfm)"
   ]
  },
  {
   "cell_type": "markdown",
   "metadata": {},
   "source": [
    "### News Contents <a class=\"anchor\" id=\"nc\"></a>"
   ]
  },
  {
   "cell_type": "code",
   "execution_count": 1,
   "metadata": {},
   "outputs": [],
   "source": [
    "import pandas as pd\n",
    "\n",
    "df_1 = pd.read_csv(\"data_v4.csv\")\n",
    "df_1.head()\n",
    "\n",
    "df_test = df_1[['News content','PercentChg']]\n",
    "df_test\n",
    "\n",
    "#df_test['News content'] = df_test['News content'].astype('|S')\n",
    "df_test.dtypes\n",
    "\n",
    "x_prep = df_test.iloc[:, :-1].values\n",
    "y_prep = df_test.iloc[:, -1].values\n",
    "\n",
    "from sklearn.model_selection import train_test_split\n",
    "x_train, x_test, y_train, y_test = train_test_split(x_prep, y_prep, \n",
    "                                                    test_size = 0.2, random_state = 123)\n",
    "\n",
    "x_train = x_train.tolist()\n",
    "x_test = x_test.tolist()\n",
    "y_train = y_train.tolist()\n",
    "y_test = y_test.tolist()\n",
    "\n",
    "for i in range(0, len(x_train)): \n",
    "    x_train[i] = str(x_train[i]) \n",
    "for i in range(0, len(x_test)): \n",
    "    x_test[i] = str(x_test[i]) "
   ]
  },
  {
   "cell_type": "code",
   "execution_count": null,
   "metadata": {},
   "outputs": [],
   "source": [
    "import ktrain\n",
    "from ktrain import text\n",
    "\n",
    "\n",
    "trn, val, preproc = text.texts_from_array(x_train=x_train, y_train=y_train,\n",
    "                                          x_test=x_test, y_test=y_test,\n",
    "                                          preprocess_mode = 'bert',\n",
    "                                          maxlen=300, \n",
    "                                          max_features=35000)\n",
    "\n",
    "model = text.text_regression_model('bert', train_data=trn, preproc=preproc, metrics = ['mse', 'mae'])\n",
    "learner = ktrain.get_learner(model, train_data=trn, val_data=val, batch_size=14)"
   ]
  },
  {
   "cell_type": "code",
   "execution_count": 17,
   "metadata": {},
   "outputs": [
    {
     "name": "stdout",
     "output_type": "stream",
     "text": [
      "\n",
      "\n",
      "begin training using onecycle policy with max lr of 0.0001...\n",
      "Epoch 1/5\n",
      "5/5 [==============================] - 105s 21s/step - loss: 0.3339 - mse: 0.3339 - mae: 0.4789 - val_loss: 0.0137 - val_mse: 0.0137 - val_mae: 0.1032\n",
      "Epoch 2/5\n",
      "5/5 [==============================] - 76s 15s/step - loss: 0.0221 - mse: 0.0221 - mae: 0.1118 - val_loss: 0.0022 - val_mse: 0.0022 - val_mae: 0.0338\n",
      "Epoch 3/5\n",
      "5/5 [==============================] - 100s 20s/step - loss: 0.0117 - mse: 0.0117 - mae: 0.0861 - val_loss: 0.0118 - val_mse: 0.0118 - val_mae: 0.1068\n",
      "Epoch 4/5\n",
      "5/5 [==============================] - 76s 15s/step - loss: 0.0091 - mse: 0.0091 - mae: 0.0744 - val_loss: 0.0046 - val_mse: 0.0046 - val_mae: 0.0654\n",
      "Epoch 5/5\n",
      "5/5 [==============================] - 76s 15s/step - loss: 0.0075 - mse: 0.0075 - mae: 0.0752 - val_loss: 0.0022 - val_mse: 0.0022 - val_mae: 0.0440\n"
     ]
    },
    {
     "data": {
      "text/plain": [
       "<tensorflow.python.keras.callbacks.History at 0x7fe93acf1df0>"
      ]
     },
     "execution_count": 17,
     "metadata": {},
     "output_type": "execute_result"
    }
   ],
   "source": [
    "learner.fit_onecycle(1e-4, 5)"
   ]
  },
  {
   "cell_type": "markdown",
   "metadata": {},
   "source": [
    "### News Contents & Financial Metrics <a class=\"anchor\" id=\"ncfm\"></a>"
   ]
  },
  {
   "cell_type": "code",
   "execution_count": 19,
   "metadata": {},
   "outputs": [],
   "source": [
    "import pandas as pd\n",
    "\n",
    "df_2 = pd.read_csv(\"df_model_2.csv\")\n",
    "df_2.head()\n",
    "\n",
    "df_test_2 = df_2[['News content','currentRatio', 'quickRatio', 'debtEquityRatio', 'interestCoverage',\n",
    "                   'returnOnEquity', 'priceEarningsRatio', 'receivablesTurnover', \n",
    "                   'payablesTurnover', 'eps', 'PercentChg.y']]\n",
    "\n",
    "#df_test['News content'] = df_test['News content'].astype('|S')\n",
    "df_test_2.dtypes\n",
    "\n",
    "x_prep = df_test_2.iloc[:, :-1].values\n",
    "y_prep = df_test_2.iloc[:, -1].values\n",
    "\n",
    "from sklearn.model_selection import train_test_split\n",
    "x_train, x_test, y_train, y_test = train_test_split(x_prep, y_prep, \n",
    "                                                    test_size = 0.2, random_state = 123)\n",
    "\n",
    "x_train = x_train.tolist()\n",
    "x_test = x_test.tolist()\n",
    "y_train = y_train.tolist()\n",
    "y_test = y_test.tolist()\n",
    "\n",
    "for i in range(0, len(x_train)): \n",
    "    x_train[i] = str(x_train[i]) \n",
    "for i in range(0, len(x_test)): \n",
    "    x_test[i] = str(x_test[i]) "
   ]
  },
  {
   "cell_type": "code",
   "execution_count": null,
   "metadata": {},
   "outputs": [],
   "source": [
    "import ktrain\n",
    "from ktrain import text\n",
    "\n",
    "\n",
    "trn, val, preproc = text.texts_from_array(x_train=x_train, y_train=y_train,\n",
    "                                          x_test=x_test, y_test=y_test,\n",
    "                                          preprocess_mode = 'bert',\n",
    "                                          maxlen=300, \n",
    "                                          max_features=35000)\n",
    "\n",
    "model = text.text_regression_model('bert', train_data=trn, preproc=preproc, metrics = ['mse', 'mae'])\n",
    "learner = ktrain.get_learner(model, train_data=trn, val_data=val, batch_size=14)"
   ]
  },
  {
   "cell_type": "code",
   "execution_count": 21,
   "metadata": {},
   "outputs": [
    {
     "name": "stdout",
     "output_type": "stream",
     "text": [
      "\n",
      "\n",
      "begin training using onecycle policy with max lr of 0.0001...\n",
      "Epoch 1/5\n",
      "5/5 [==============================] - 119s 24s/step - loss: 0.0451 - mse: 0.0451 - mae: 0.1750 - val_loss: 0.0350 - val_mse: 0.0350 - val_mae: 0.1576\n",
      "Epoch 2/5\n",
      "5/5 [==============================] - 82s 16s/step - loss: 0.0189 - mse: 0.0189 - mae: 0.1084 - val_loss: 0.0023 - val_mse: 0.0023 - val_mae: 0.0394\n",
      "Epoch 3/5\n",
      "5/5 [==============================] - 75s 15s/step - loss: 0.0079 - mse: 0.0079 - mae: 0.0657 - val_loss: 0.0017 - val_mse: 0.0017 - val_mae: 0.0359\n",
      "Epoch 4/5\n",
      "5/5 [==============================] - 75s 15s/step - loss: 0.0033 - mse: 0.0033 - mae: 0.0448 - val_loss: 0.0016 - val_mse: 0.0016 - val_mae: 0.0358\n",
      "Epoch 5/5\n",
      "5/5 [==============================] - 77s 15s/step - loss: 0.0021 - mse: 0.0021 - mae: 0.0350 - val_loss: 9.4858e-04 - val_mse: 9.4858e-04 - val_mae: 0.0265\n"
     ]
    },
    {
     "data": {
      "text/plain": [
       "<tensorflow.python.keras.callbacks.History at 0x7fe8699ac040>"
      ]
     },
     "execution_count": 21,
     "metadata": {},
     "output_type": "execute_result"
    }
   ],
   "source": [
    "learner.fit_onecycle(1e-4, 5)"
   ]
  }
 ],
 "metadata": {
  "kernelspec": {
   "display_name": "Python 3",
   "language": "python",
   "name": "python3"
  },
  "language_info": {
   "codemirror_mode": {
    "name": "ipython",
    "version": 3
   },
   "file_extension": ".py",
   "mimetype": "text/x-python",
   "name": "python",
   "nbconvert_exporter": "python",
   "pygments_lexer": "ipython3",
   "version": "3.8.5"
  }
 },
 "nbformat": 4,
 "nbformat_minor": 4
}
