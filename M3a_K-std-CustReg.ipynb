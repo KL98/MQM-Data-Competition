{
 "cells": [
  {
   "cell_type": "markdown",
   "metadata": {},
   "source": [
    "# Model3a\n",
    "## Ktrain Customized Regression (Text+Tabular) with Standard Embeddings\n",
    "\n",
    "### TOC\n",
    "\n",
    "* [Dataset Prep](#d)\n",
    "* [Preprocessing](#p)\n",
    "* [Modeling](#m)\n",
    "    * [Model Selection](#ms)\n",
    "    * [Modeling](#mm)"
   ]
  },
  {
   "cell_type": "markdown",
   "metadata": {},
   "source": [
    "## Dataset Prep <a class=\"anchor\" id=\"d\"></a>"
   ]
  },
  {
   "cell_type": "code",
   "execution_count": 1,
   "metadata": {},
   "outputs": [],
   "source": [
    "import pandas as pd\n",
    "from tensorflow import keras\n",
    "import numpy as np\n",
    "import math\n",
    "\n",
    "df_1 = pd.read_csv(\"df_model_2.csv\")\n",
    "df_1.head()\n",
    "\n",
    "#texts\n",
    "df_text = df_1[['News content', 'PercentChg.y']]\n",
    "\n",
    "x_text_prep = df_text.iloc[:, :-1].values\n",
    "y_text_prep = df_text.iloc[:, -1].values\n",
    "\n",
    "from sklearn.model_selection import train_test_split\n",
    "x_text_train, x_text_test, y_text_train, y_text_test = train_test_split(x_text_prep, y_text_prep, \n",
    "                                                    test_size = 0.2, random_state = 123)\n",
    "\n",
    "#tabulars\n",
    "df_tab = df_1[['currentRatio', 'quickRatio', 'debtEquityRatio', 'interestCoverage',\n",
    "                   'returnOnEquity', 'priceEarningsRatio', 'receivablesTurnover', \n",
    "                   'payablesTurnover', 'eps', 'PercentChg.y']]\n",
    "\n",
    "x_tab_prep = df_tab.iloc[:, :-1].values\n",
    "y_tab_prep = df_tab.iloc[:, -1:].values\n",
    "\n",
    "from sklearn.model_selection import train_test_split\n",
    "x_tab_train, x_tab_test, y_tab_train, y_tab_test = train_test_split(x_tab_prep, y_tab_prep, \n",
    "                                                    test_size = 0.2, random_state = 123)\n",
    "\n",
    "tab_train, tab_test = train_test_split(df_tab,test_size = 0.2, random_state = 123)\n",
    "\n",
    "#tab_train = tab_train.values.tolist()\n",
    "#tab_test = tab_test.values.tolist()\n",
    "\n",
    "# to list for texts\n",
    "x_text_train = x_text_train.tolist()\n",
    "x_text_test = x_text_test.tolist()\n",
    "y_text_train = y_text_train.tolist()\n",
    "y_text_test = y_text_test.tolist()\n",
    "\n",
    "for i in range(0, len(x_text_train)): \n",
    "    x_text_train[i] = str(x_text_train[i]) \n",
    "for i in range(0, len(x_text_test)): \n",
    "    x_text_test[i] = str(x_text_test[i]) "
   ]
  },
  {
   "cell_type": "markdown",
   "metadata": {},
   "source": [
    "## Preprocessing <a class=\"anchor\" id=\"p\"></a>"
   ]
  },
  {
   "cell_type": "code",
   "execution_count": null,
   "metadata": {},
   "outputs": [],
   "source": [
    "import ktrain\n",
    "from ktrain import text\n",
    "\n",
    "trn_text, val_text, preproc_text = text.texts_from_array(x_train=x_text_train, y_train=y_text_train,\n",
    "                                          x_test=x_text_test, y_test=y_text_test,\n",
    "                                          ngram_range = 20,\n",
    "                                          preprocess_mode = 'standard',\n",
    "                                          maxlen=300, \n",
    "                                          max_features=35000,\n",
    "                                          random_state=1)"
   ]
  },
  {
   "cell_type": "code",
   "execution_count": null,
   "metadata": {},
   "outputs": [],
   "source": [
    "import ktrain\n",
    "from ktrain import tabular\n",
    "\n",
    "trn_tab, val_tab, preproc_tab = tabular.tabular_from_df(tab_train, label_columns=['PercentChg.y'],\n",
    "                                                        val_df=tab_test,\n",
    "                                                           is_regression=True, \n",
    "                                                           random_state=123)"
   ]
  },
  {
   "cell_type": "markdown",
   "metadata": {},
   "source": [
    "## Modeling <a class=\"anchor\" id=\"m\"></a>"
   ]
  },
  {
   "cell_type": "markdown",
   "metadata": {},
   "source": [
    "Model Selection <a class=\"anchor\" id=\"ms\"></a>"
   ]
  },
  {
   "cell_type": "code",
   "execution_count": null,
   "metadata": {},
   "outputs": [],
   "source": [
    "model_text = text.text_regression_model('linreg', train_data=trn_text, \n",
    "                                        preproc=preproc_text, metrics=['mse','mae'])"
   ]
  },
  {
   "cell_type": "code",
   "execution_count": null,
   "metadata": {},
   "outputs": [],
   "source": [
    "model_tab = tabular.tabular_regression_model('mlp', trn_tab, metrics=['mse','mae']) #metrics=['mae']"
   ]
  },
  {
   "cell_type": "code",
   "execution_count": 6,
   "metadata": {},
   "outputs": [],
   "source": [
    "merged_out = keras.layers.concatenate([model_tab.output, model_text.output])\n",
    "merged_out = keras.layers.Dropout(0.25)(merged_out)\n",
    "merged_out = keras.layers.Dense(1000, activation='relu')(merged_out)\n",
    "merged_out = keras.layers.Dropout(0.25)(merged_out)\n",
    "merged_out = keras.layers.Dense(500, activation='relu')(merged_out)\n",
    "merged_out = keras.layers.Dropout(0.5)(merged_out)\n",
    "merged_out = keras.layers.Dense(1)(merged_out)\n",
    "\n",
    "combined_model = keras.Model([model_tab.input] + [model_text.input], merged_out)\n",
    "combined_model.compile(loss='mae', optimizer='adam', metrics=['mae', 'mse'])"
   ]
  },
  {
   "cell_type": "markdown",
   "metadata": {},
   "source": [
    "Modeling <a class=\"anchor\" id=\"mm\"></a>"
   ]
  },
  {
   "cell_type": "code",
   "execution_count": null,
   "metadata": {},
   "outputs": [],
   "source": [
    "import tensorflow as tf\n",
    "from ktrain.data import TFDataset\n",
    "BATCH_SIZE = 64\n",
    "\n",
    "trn_combined = [x_tab_train] +  [trn_text[0]] + [trn_text[1]]\n",
    "val_combined = [x_tab_test] + [val_text[0]] + [val_text[1]]\n",
    "\n",
    "def features_to_tfdataset(examples):\n",
    "\n",
    "    def gen():\n",
    "        for idx, ex0 in enumerate(examples[0]):\n",
    "            ex1 = examples[1][idx]\n",
    "            label = examples[2][idx]\n",
    "            x = (ex0, ex1)\n",
    "            y = label\n",
    "            yield ( (x, y) )\n",
    "\n",
    "    tfdataset= tf.data.Dataset.from_generator(gen,\n",
    "            ((tf.int32, tf.int32), tf.int64),\n",
    "            ((tf.TensorShape([None]), tf.TensorShape([None])), tf.TensorShape([])) )\n",
    "    return tfdataset\n",
    "train_tfdataset= features_to_tfdataset(trn_combined)\n",
    "val_tfdataset= features_to_tfdataset(val_combined)\n",
    "train_tfdataset = train_tfdataset.shuffle(trn_combined[0].shape[0]).batch(BATCH_SIZE).repeat(-1)\n",
    "val_tfdataset = val_tfdataset.batch(BATCH_SIZE)\n",
    "\n",
    "train_data = ktrain.TFDataset(train_tfdataset, n=trn_combined[0].shape[0], y=trn_combined[2])\n",
    "val_data = ktrain.TFDataset(val_tfdataset, n=val_combined[0].shape[0], y=val_combined[2])\n",
    "\n",
    "learner = ktrain.get_learner(combined_model, train_data=train_data, val_data=val_data)"
   ]
  },
  {
   "cell_type": "code",
   "execution_count": 8,
   "metadata": {},
   "outputs": [
    {
     "name": "stdout",
     "output_type": "stream",
     "text": [
      "\n",
      "\n",
      "begin training using onecycle policy with max lr of 0.001...\n",
      "Epoch 1/5\n",
      "3/3 [==============================] - 0s 69ms/step - loss: 0.0033 - mae: 0.0033 - mse: 2.9212e-05 - val_loss: 8.8162e-04 - val_mae: 8.8162e-04 - val_mse: 1.1060e-06\n",
      "Epoch 2/5\n",
      "3/3 [==============================] - 0s 19ms/step - loss: 0.0105 - mae: 0.0105 - mse: 2.5530e-04 - val_loss: 0.0034 - val_mae: 0.0034 - val_mse: 1.7169e-05\n",
      "Epoch 3/5\n",
      "3/3 [==============================] - 0s 17ms/step - loss: 0.0098 - mae: 0.0098 - mse: 2.2607e-04 - val_loss: 0.0048 - val_mae: 0.0048 - val_mse: 3.1197e-05\n",
      "Epoch 4/5\n",
      "3/3 [==============================] - 0s 18ms/step - loss: 0.0225 - mae: 0.0225 - mse: 0.0011 - val_loss: 0.0104 - val_mae: 0.0104 - val_mse: 1.6909e-04\n",
      "Epoch 5/5\n",
      "3/3 [==============================] - 0s 16ms/step - loss: 0.0219 - mae: 0.0219 - mse: 9.9146e-04 - val_loss: 0.0073 - val_mae: 0.0073 - val_mse: 9.1252e-05\n"
     ]
    },
    {
     "data": {
      "text/plain": [
       "<tensorflow.python.keras.callbacks.History at 0x7fe4f97dd610>"
      ]
     },
     "execution_count": 8,
     "metadata": {},
     "output_type": "execute_result"
    }
   ],
   "source": [
    "learner.fit_onecycle(1e-3, 5)"
   ]
  },
  {
   "cell_type": "code",
   "execution_count": null,
   "metadata": {},
   "outputs": [],
   "source": [
    "learner.plot('loss')"
   ]
  },
  {
   "cell_type": "code",
   "execution_count": null,
   "metadata": {},
   "outputs": [],
   "source": [
    "learner.plot('lr')"
   ]
  },
  {
   "cell_type": "code",
   "execution_count": null,
   "metadata": {},
   "outputs": [],
   "source": [
    "learner.plot('momentum')"
   ]
  },
  {
   "cell_type": "code",
   "execution_count": null,
   "metadata": {},
   "outputs": [],
   "source": [
    "learner.view_top_losses(n=3)"
   ]
  },
  {
   "cell_type": "code",
   "execution_count": 68,
   "metadata": {},
   "outputs": [],
   "source": [
    "pred = learner.predict(val_data)"
   ]
  },
  {
   "cell_type": "code",
   "execution_count": null,
   "metadata": {},
   "outputs": [],
   "source": [
    "# 5 random predictions\n",
    "val_data.batch_size = 1\n",
    "for i in range(5):\n",
    "    idx = np.random.choice(len(x_text_test))\n",
    "    #print(\"TEXT:\\n%s\" % (x_text_test[idx]))\n",
    "    print([idx])\n",
    "    print(\"\\tpredicted: %s\" % (np.squeeze(pred[idx])))\n",
    "    print(\"\\tactual: %s\" % (y_text_test[idx]))           \n",
    "    print('----------------------------------------')"
   ]
  }
 ],
 "metadata": {
  "kernelspec": {
   "display_name": "Python 3",
   "language": "python",
   "name": "python3"
  },
  "language_info": {
   "codemirror_mode": {
    "name": "ipython",
    "version": 3
   },
   "file_extension": ".py",
   "mimetype": "text/x-python",
   "name": "python",
   "nbconvert_exporter": "python",
   "pygments_lexer": "ipython3",
   "version": "3.8.5"
  }
 },
 "nbformat": 4,
 "nbformat_minor": 4
}
